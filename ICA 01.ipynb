{
 "cells": [
  {
   "cell_type": "code",
   "execution_count": 1,
   "id": "4feac73f",
   "metadata": {},
   "outputs": [
    {
     "name": "stdout",
     "output_type": "stream",
     "text": [
      "Whitening data...\n"
     ]
    },
    {
     "name": "stderr",
     "output_type": "stream",
     "text": [
      "/data/users2/mjafarlou1/code/ipykernel_2867307/1353961795.py:69: DeprecationWarning: Keyword argument 'eigvals' is deprecated in favour of 'subset_by_index' keyword instead and will be removed in SciPy 1.12.0.\n",
      "  w, u = eigh(cov, eigvals=(NSUB - n_comp, NSUB - 1))\n"
     ]
    },
    {
     "name": "stdout",
     "output_type": "stream",
     "text": [
      "x_white shape: 200, 265505\n",
      "Done.\n",
      "Running INFOMAX-ICA ...\n",
      "Beginning ICA training...\n"
     ]
    },
    {
     "name": "stderr",
     "output_type": "stream",
     "text": [
      "/data/users2/mjafarlou1/code/ipykernel_2867307/1353961795.py:102: RuntimeWarning: overflow encountered in exp\n",
      "  logit = 1 - (2 / (1 + np.exp(-unmixed)))\n"
     ]
    },
    {
     "name": "stdout",
     "output_type": "stream",
     "text": [
      "Numeric error! restarting with lower learning rate\n",
      "Numeric error! restarting with lower learning rate\n",
      "Numeric error! restarting with lower learning rate\n",
      "Numeric error! restarting with lower learning rate\n",
      "Numeric error! restarting with lower learning rate\n",
      "Numeric error! restarting with lower learning rate\n",
      "Numeric error! restarting with lower learning rate\n",
      "Numeric error! restarting with lower learning rate\n",
      "Done.\n"
     ]
    }
   ],
   "source": [
    "import numpy as np\n",
    "import mne\n",
    "from numpy import dot\n",
    "from numpy.linalg import matrix_rank, inv\n",
    "from numpy.random import permutation\n",
    "from scipy.linalg import eigh\n",
    "from scipy.linalg import norm as mnorm\n",
    "\n",
    "# Global constants\n",
    "EPS = 1e-16\n",
    "MAX_W = 1e8\n",
    "ANNEAL = 0.9\n",
    "MAX_STEP = 500\n",
    "MIN_LRATE = 1e-6\n",
    "W_STOP = 1e-6\n",
    "\n",
    "def norm(x):\n",
    "    \"\"\"Computes the norm of a vector or the Frobenius norm of a\n",
    "    matrix_rank\n",
    "\n",
    "    \"\"\"\n",
    "    return mnorm(x.ravel())\n",
    "\n",
    "\n",
    "class ica:\n",
    "\n",
    "    def __init__(self, n_components=10):\n",
    "        self.n_comp = n_components\n",
    "\n",
    "    def fit(self, x2d):\n",
    "        x_white, self.white, self.dewhite\\\n",
    "            = pca_whiten(x2d, self.n_comp)\n",
    "        self.mix, self.sources, self.unmix\\\n",
    "            = infomax1(x_white, self.n_comp)\n",
    "        return self\n",
    "\n",
    "\n",
    "def diagsqrts(w):\n",
    "    \"\"\"\n",
    "    Returns direct and inverse square root normalization matrices\n",
    "    \"\"\"\n",
    "    Di = np.diag(1. / (np.sqrt(w) + np.finfo(float).eps))\n",
    "    D = np.diag(np.sqrt(w))\n",
    "    return D, Di\n",
    "\n",
    "\n",
    "def pca_whiten(x2d, n_comp, verbose=True):\n",
    "    \"\"\" data Whitening\n",
    "    *Input\n",
    "    x2d : 2d data matrix of observations by variables\n",
    "    n_comp: Number of components to retain\n",
    "    *Output\n",
    "    Xwhite : Whitened X\n",
    "    white : whitening matrix (Xwhite = np.dot(white,X))\n",
    "    dewhite : dewhitening matrix (X = np.dot(dewhite,Xwhite))\n",
    "    \"\"\"\n",
    "    x2d_demean = x2d - x2d.mean(axis=1).reshape((-1, 1))\n",
    "    NSUB, NVOX = x2d_demean.shape\n",
    "    if NSUB > NVOX:\n",
    "        cov = dot(x2d_demean.T, x2d_demean) / (NSUB - 1)\n",
    "        w, v = eigh(cov, eigvals=(NVOX - n_comp, NVOX - 1))\n",
    "        D, Di = diagsqrts(w)\n",
    "        u = dot(dot(x2d_demean, v), Di)\n",
    "        x_white = v.T\n",
    "        white = dot(Di, u.T)\n",
    "        dewhite = dot(u, D)\n",
    "    else:\n",
    "        cov = dot(x2d_demean, x2d_demean.T) / (NVOX - 1)\n",
    "        w, u = eigh(cov, eigvals=(NSUB - n_comp, NSUB - 1))\n",
    "        D, Di = diagsqrts(w)\n",
    "        white = dot(Di, u.T)\n",
    "        x_white = dot(white, x2d_demean)\n",
    "        dewhite = dot(u, D)\n",
    "    return (x_white, white, dewhite)\n",
    "\n",
    "\n",
    "def w_update(weights, x_white, bias1, lrate1):\n",
    "    \"\"\" Update rule for infomax\n",
    "    This function recieves parameters to update W1\n",
    "    * Input\n",
    "    W1: unmixing matrix (must be a square matrix)\n",
    "    Xwhite1: whitened data\n",
    "    bias1: current estimated bias\n",
    "    lrate1: current learning rate\n",
    "    startW1: in case update blows up it will start again from startW1\n",
    "    * Output\n",
    "    W1: updated mixing matrix\n",
    "    bias: updated bias\n",
    "    lrate1: updated learning rate\n",
    "    \"\"\"\n",
    "    NCOMP, NVOX = x_white.shape\n",
    "    block1 = int(np.floor(np.sqrt(NVOX / 3)))\n",
    "    permute1 = permutation(NVOX)\n",
    "    for start in range(0, NVOX, block1):\n",
    "        if start + block1 < NVOX:\n",
    "            tt2 = start + block1\n",
    "        else:\n",
    "            tt2 = NVOX\n",
    "            block1 = NVOX - start\n",
    "\n",
    "        unmixed = dot(weights, x_white[:, permute1[start:tt2]]) + bias1\n",
    "        logit = 1 - (2 / (1 + np.exp(-unmixed)))\n",
    "        weights = weights + lrate1 * dot(block1 * np.eye(NCOMP) +\n",
    "                                         dot(logit, unmixed.T), weights)\n",
    "        bias1 = bias1 + lrate1 * logit.sum(axis=1).reshape(bias1.shape)\n",
    "        # Checking if W blows up\n",
    "        if (np.isnan(weights)).any() or np.max(np.abs(weights)) > MAX_W:\n",
    "            print(\"Numeric error! restarting with lower learning rate\")\n",
    "            lrate1 = lrate1 * ANNEAL\n",
    "            weights = np.eye(NCOMP)\n",
    "            bias1 = np.zeros((NCOMP, 1))\n",
    "            error = 1\n",
    "\n",
    "            if lrate1 > 1e-6 and \\\n",
    "               matrix_rank(x_white) < NCOMP:\n",
    "                print(\"Data 1 is rank defficient\"\n",
    "                      \". I cannot compute \" +\n",
    "                      str(NCOMP) + \" components.\")\n",
    "                return (None, None, None, 1)\n",
    "\n",
    "            if lrate1 < 1e-6:\n",
    "                print(\"Weight matrix may\"\n",
    "                      \" not be invertible...\")\n",
    "                return (None, None, None, 1)\n",
    "            break\n",
    "        else:\n",
    "            error = 0\n",
    "\n",
    "    return(weights, bias1, lrate1, error)\n",
    "\n",
    "# infomax1: single modality infomax\n",
    "\n",
    "\n",
    "def infomax1(x_white, verbose=False):\n",
    "    \"\"\"Computes ICA infomax in whitened data\n",
    "    Decomposes x_white as x_white=AS\n",
    "    *Input\n",
    "    x_white: whitened data (Use PCAwhiten)\n",
    "    verbose: flag to print optimization updates\n",
    "    *Output\n",
    "    A : mixing matrix\n",
    "    S : source matrix\n",
    "    W : unmixing matrix\n",
    "    \"\"\"\n",
    "    NCOMP = x_white.shape[0]\n",
    "    # Initialization\n",
    "    weights = np.eye(NCOMP)\n",
    "    old_weights = np.eye(NCOMP)\n",
    "    d_weigths = np.zeros(NCOMP)\n",
    "    old_d_weights = np.zeros(NCOMP)\n",
    "    lrate = 0.005 / np.log(NCOMP)\n",
    "    bias = np.zeros((NCOMP, 1))\n",
    "    change = 1\n",
    "    angle_delta = 0\n",
    "    if verbose:\n",
    "        print(\"Beginning ICA training...\")\n",
    "    step = 1\n",
    "\n",
    "    while step < MAX_STEP and change > W_STOP:\n",
    "\n",
    "        (weights, bias, lrate, error) = w_update(weights, x_white, bias, lrate)\n",
    "\n",
    "        if error != 0:\n",
    "            step = 1\n",
    "            error = 0\n",
    "            lrate = lrate * ANNEAL\n",
    "            weights = np.eye(NCOMP)\n",
    "            old_weights = np.eye(NCOMP)\n",
    "            d_weigths = np.zeros(NCOMP)\n",
    "            old_d_weights = np.zeros(NCOMP)\n",
    "            bias = np.zeros((NCOMP, 1))\n",
    "        else:\n",
    "            d_weigths = weights - old_weights\n",
    "            change = norm(d_weigths)**2\n",
    "\n",
    "            if step > 2:\n",
    "                angle_delta = np.arccos(\n",
    "                    np.sum(d_weigths * old_d_weights) /\n",
    "                    (norm(d_weigths) * norm(old_d_weights) + 1e-8)\n",
    "                ) * 180 / np.pi\n",
    "\n",
    "            old_weights = np.copy(weights)\n",
    "\n",
    "            if angle_delta > 60:\n",
    "                lrate = lrate * ANNEAL\n",
    "                old_d_weights = np.copy(d_weigths)\n",
    "            elif step == 1:\n",
    "                old_d_weights = np.copy(d_weigths)\n",
    "\n",
    "            if verbose and change < W_STOP:\n",
    "                print(\"Step %d: Lrate %.1e,\"\n",
    "                      \"Wchange %.1e,\"\n",
    "                      \"Angle %.2f\" % (step, lrate,\n",
    "                                      change, angle_delta))\n",
    "\n",
    "        step = step + 1\n",
    "\n",
    "    # A,S,W\n",
    "    return (inv(weights), dot(weights, x_white), weights)\n",
    "\n",
    "# Single modality ICA\n",
    "\n",
    "\n",
    "def ica1(x_raw, ncomp, verbose=False):\n",
    "    '''\n",
    "    Single modality Independent Component Analysis\n",
    "    '''\n",
    "    if verbose:\n",
    "        print(\"Whitening data...\")\n",
    "    \n",
    "    x_white, _, dewhite = pca_whiten(x_raw, ncomp)\n",
    "    if verbose:\n",
    "        print('x_white shape: %d, %d' % x_white.shape)\n",
    "        print(\"Done.\")\n",
    "    if verbose:\n",
    "        print(\"Running INFOMAX-ICA ...\")\n",
    "    mixer, sources, unmixer = infomax1(x_white, verbose)\n",
    "    mixer = dot(dewhite, mixer)\n",
    "\n",
    "    scale = sources.std(axis=1).reshape((-1, 1))\n",
    "    sources = sources / scale\n",
    "    scale = scale.reshape((1, -1))\n",
    "    mixer = mixer * scale\n",
    "\n",
    "    if verbose:\n",
    "        print(\"Done.\")\n",
    "    return (mixer, sources, unmixer)\n",
    "\n",
    "\n",
    "if __name__ == \"__main__\":\n",
    "    file_path = '/data/users2/mjafarlou1/MEG/stc/sub-01/sub-01_task-RDR_run-29_meg.stc-lh.stc'\n",
    "    stc = mne.read_source_estimate(file_path)\n",
    "\n",
    "    n_components = 200\n",
    "    mixer, sources, unmixer = ica1(stc.data, n_components, verbose=True)"
   ]
  },
  {
   "cell_type": "code",
   "execution_count": 2,
   "id": "029483b8",
   "metadata": {},
   "outputs": [
    {
     "data": {
      "text/plain": [
       "(200, 265505)"
      ]
     },
     "execution_count": 2,
     "metadata": {},
     "output_type": "execute_result"
    }
   ],
   "source": [
    "sources.shape"
   ]
  },
  {
   "cell_type": "code",
   "execution_count": 3,
   "id": "c13d732c",
   "metadata": {},
   "outputs": [
    {
     "data": {
      "text/plain": [
       "(200, 200)"
      ]
     },
     "execution_count": 3,
     "metadata": {},
     "output_type": "execute_result"
    }
   ],
   "source": [
    "unmixer.shape"
   ]
  },
  {
   "cell_type": "code",
   "execution_count": 4,
   "id": "8a09014e",
   "metadata": {},
   "outputs": [
    {
     "data": {
      "text/plain": [
       "(5124, 200)"
      ]
     },
     "execution_count": 4,
     "metadata": {},
     "output_type": "execute_result"
    }
   ],
   "source": [
    "mixer.shape"
   ]
  },
  {
   "cell_type": "code",
   "execution_count": 5,
   "id": "5026f908",
   "metadata": {},
   "outputs": [
    {
     "data": {
      "text/plain": [
       "(5124, 265505)"
      ]
     },
     "execution_count": 5,
     "metadata": {},
     "output_type": "execute_result"
    }
   ],
   "source": [
    "stc.data.shape"
   ]
  },
  {
   "cell_type": "code",
   "execution_count": 6,
   "id": "34eb9673",
   "metadata": {},
   "outputs": [],
   "source": []
  },
  {
   "cell_type": "code",
   "execution_count": null,
   "id": "92a16f11",
   "metadata": {},
   "outputs": [],
   "source": []
  },
  {
   "cell_type": "code",
   "execution_count": null,
   "id": "cb7fd32a",
   "metadata": {},
   "outputs": [],
   "source": []
  },
  {
   "cell_type": "code",
   "execution_count": null,
   "id": "d9f80cf0",
   "metadata": {},
   "outputs": [],
   "source": []
  }
 ],
 "metadata": {
  "kernelspec": {
   "display_name": "Python 3 (ipykernel)",
   "language": "python",
   "name": "python3"
  },
  "language_info": {
   "codemirror_mode": {
    "name": "ipython",
    "version": 3
   },
   "file_extension": ".py",
   "mimetype": "text/x-python",
   "name": "python",
   "nbconvert_exporter": "python",
   "pygments_lexer": "ipython3",
   "version": "3.9.17"
  }
 },
 "nbformat": 4,
 "nbformat_minor": 5
}
